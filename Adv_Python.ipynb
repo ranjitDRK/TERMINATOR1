{
  "nbformat": 4,
  "nbformat_minor": 0,
  "metadata": {
    "colab": {
      "name": "Adv Python",
      "provenance": [],
      "authorship_tag": "ABX9TyO/hMoFpdKfkMJW5XWr7Ekj"
    },
    "kernelspec": {
      "name": "python3",
      "display_name": "Python 3"
    },
    "language_info": {
      "name": "python"
    }
  },
  "cells": [
    {
      "cell_type": "code",
      "execution_count": 6,
      "metadata": {
        "colab": {
          "base_uri": "https://localhost:8080/"
        },
        "id": "dSkkoQj9o9Tp",
        "outputId": "49eb14e9-1e1c-48c2-99a0-398fafa49f58"
      },
      "outputs": [
        {
          "output_type": "stream",
          "name": "stdout",
          "text": [
            "1. roll_no:  1\n",
            "2. name:  venu\n"
          ]
        }
      ],
      "source": [
        "class Student:\n",
        "  def __init__(self,roll_no,name):\n",
        "    self.roll_no=roll_no\n",
        "    self.name=name\n",
        "  def info(self):\n",
        "    print(\"1. roll_no: \",self.roll_no)\n",
        "    print(\"2. name: \",self.name)\n",
        "s=Student(1,\"venu\")\n",
        "s.info()\n"
      ]
    },
    {
      "cell_type": "code",
      "source": [
        "class Student:\n",
        "  def __init__(self,roll_no,name):\n",
        "    print(\"constructor execution...\")\n",
        "    self.roll_no=roll_no\n",
        "    self.name=name\n",
        "  def info(self):\n",
        "    print(\"method execution....\")\n",
        "    print(\"1. roll_no: \",self.roll_no)\n",
        "    print(\"2. name: \",self.name)\n",
        "s=Student(1,\"venu\")\n",
        "s.info()"
      ],
      "metadata": {
        "colab": {
          "base_uri": "https://localhost:8080/"
        },
        "id": "_fqREe0bqtJV",
        "outputId": "460ca172-f834-45f5-81af-65eb0f9129cc"
      },
      "execution_count": 7,
      "outputs": [
        {
          "output_type": "stream",
          "name": "stdout",
          "text": [
            "constructor execution...\n",
            "method execution....\n",
            "1. roll_no:  1\n",
            "2. name:  venu\n"
          ]
        }
      ]
    },
    {
      "cell_type": "code",
      "source": [
        "#instance variables / object variables - every object seprate copy of instance variables created\n",
        "class Student:\n",
        "  def __init__(self,roll_no,name):\n",
        "    print(\"constructor execution...\")\n",
        "    self.roll_no=roll_no\n",
        "    self.name=name\n",
        "  def info(self):\n",
        "    print(\"method execution....\")\n",
        "    print(\"1. roll_no: \",self.roll_no)\n",
        "    print(\"2. name: \",self.name)\n",
        "\n",
        "s1=Student(1,\"venu\")      #instance variables\n",
        "s2=Student(2,\"kishore\")   #instance variables\n",
        "s.info()"
      ],
      "metadata": {
        "colab": {
          "base_uri": "https://localhost:8080/"
        },
        "id": "AFKB9cEZsNBe",
        "outputId": "8ef06f18-6c51-4f37-dc3e-c63d69007e12"
      },
      "execution_count": 8,
      "outputs": [
        {
          "output_type": "stream",
          "name": "stdout",
          "text": [
            "constructor execution...\n",
            "constructor execution...\n",
            "method execution....\n",
            "1. roll_no:  1\n",
            "2. name:  venu\n"
          ]
        }
      ]
    }
  ]
}