{
  "nbformat": 4,
  "nbformat_minor": 0,
  "metadata": {
    "colab": {
      "name": "Adv Python",
      "provenance": [],
      "authorship_tag": "ABX9TyPUucMqYFWJv78w9hBhweFt",
      "include_colab_link": true
    },
    "kernelspec": {
      "name": "python3",
      "display_name": "Python 3"
    },
    "language_info": {
      "name": "python"
    }
  },
  "cells": [
    {
      "cell_type": "markdown",
      "metadata": {
        "id": "view-in-github",
        "colab_type": "text"
      },
      "source": [
        "<a href=\"https://colab.research.google.com/github/ranjitDRK/TERMINATOR1/blob/main/Adv_Python.ipynb\" target=\"_parent\"><img src=\"https://colab.research.google.com/assets/colab-badge.svg\" alt=\"Open In Colab\"/></a>"
      ]
    },
    {
      "cell_type": "code",
      "execution_count": 2,
      "metadata": {
        "colab": {
          "base_uri": "https://localhost:8080/"
        },
        "id": "dSkkoQj9o9Tp",
        "outputId": "e28463fe-456a-439e-a2b8-0dc695547e76"
      },
      "outputs": [
        {
          "output_type": "stream",
          "name": "stdout",
          "text": [
            "1. eno:  1\n",
            "2. ename:  venu\n"
          ]
        }
      ],
      "source": [
        "class Student:\n",
        "  def __init__(self,eno,ename):\n",
        "    self.eno=eno\n",
        "    self.ename=ename\n",
        "  def info(self):\n",
        "    print(\"1. eno: \",self.eno)\n",
        "    print(\"2. ename: \",self.ename)\n",
        "s=Student(1,\"venu\")\n",
        "s.info()\n"
      ]
    }
  ]
}